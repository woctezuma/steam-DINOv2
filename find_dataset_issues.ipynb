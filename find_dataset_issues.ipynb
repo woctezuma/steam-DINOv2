{
  "nbformat": 4,
  "nbformat_minor": 0,
  "metadata": {
    "colab": {
      "private_outputs": true,
      "provenance": [],
      "collapsed_sections": [
        "AOetn6xSNb68",
        "RMgR2SgkNmDC",
        "selSm7qTNaHa"
      ]
    },
    "kernelspec": {
      "name": "python3",
      "display_name": "Python 3"
    },
    "language_info": {
      "name": "python"
    }
  },
  "cells": [
    {
      "cell_type": "markdown",
      "source": [
        "# Find issues in the image dataset\n",
        "\n",
        "- https://github.com/cleanlab/cleanvision"
      ],
      "metadata": {
        "id": "QAF5wev8M7fk"
      }
    },
    {
      "cell_type": "markdown",
      "source": [
        "## Install packages"
      ],
      "metadata": {
        "id": "AOetn6xSNb68"
      }
    },
    {
      "cell_type": "code",
      "source": [
        "%pip install --quiet cleanvision"
      ],
      "metadata": {
        "id": "WO4lkfdaNJkk"
      },
      "execution_count": null,
      "outputs": []
    },
    {
      "cell_type": "markdown",
      "source": [
        "## Download the image dataset"
      ],
      "metadata": {
        "id": "RMgR2SgkNmDC"
      }
    },
    {
      "cell_type": "code",
      "source": [
        "%cd /content\n",
        "\n",
        "!curl -OL https://github.com/woctezuma/steam-DINOv2/releases/download/input/images_partA.tar.gz\n",
        "!curl -OL https://github.com/woctezuma/steam-DINOv2/releases/download/input/images_partB.tar.gz\n",
        "\n",
        "!tar xzf images_partA.tar.gz\n",
        "!tar xzf images_partB.tar.gz"
      ],
      "metadata": {
        "id": "SL7A0j_WNhnm"
      },
      "execution_count": null,
      "outputs": []
    },
    {
      "cell_type": "markdown",
      "source": [
        "## Apply `cleanvision`"
      ],
      "metadata": {
        "id": "eEUVaQ5eNpop"
      }
    },
    {
      "cell_type": "code",
      "execution_count": null,
      "metadata": {
        "id": "oXqBG5bJMv-0"
      },
      "outputs": [],
      "source": [
        "from cleanvision import Imagelab\n",
        "\n",
        "DATASET_PATH = \"images/\"\n",
        "SAVE_PATH = \"results\""
      ]
    },
    {
      "cell_type": "markdown",
      "source": [
        "### Find issues"
      ],
      "metadata": {
        "id": "selSm7qTNaHa"
      }
    },
    {
      "cell_type": "code",
      "source": [
        "find_issues_from_scratch = False\n",
        "\n",
        "if find_issues_from_scratch:\n",
        "  imagelab = Imagelab(data_path=DATASET_PATH)\n",
        "  imagelab.find_issues()\n",
        "  imagelab.save(SAVE_PATH)\n",
        "\n",
        "else:\n",
        "  %cd /content\n",
        "  !curl -OL https://github.com/woctezuma/steam-DINOv2/releases/download/cleanvision/results.tar.gz\n",
        "  !tar xzf results.tar.gz"
      ],
      "metadata": {
        "id": "KYxL8RFwNEKW"
      },
      "execution_count": null,
      "outputs": []
    },
    {
      "cell_type": "markdown",
      "source": [
        "### Report"
      ],
      "metadata": {
        "id": "B7PXkP-UNYrd"
      }
    },
    {
      "cell_type": "code",
      "source": [
        "imagelab = Imagelab.load(SAVE_PATH, DATASET_PATH)\n",
        "imagelab.report()"
      ],
      "metadata": {
        "id": "lXTwXgeiNFci"
      },
      "execution_count": null,
      "outputs": []
    }
  ]
}