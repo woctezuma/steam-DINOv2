{
  "nbformat": 4,
  "nbformat_minor": 0,
  "metadata": {
    "colab": {
      "private_outputs": true,
      "provenance": [],
      "collapsed_sections": [
        "AOetn6xSNb68",
        "RMgR2SgkNmDC",
        "eEUVaQ5eNpop",
        "selSm7qTNaHa",
        "WQgZAjwSrrk3"
      ]
    },
    "kernelspec": {
      "name": "python3",
      "display_name": "Python 3"
    },
    "language_info": {
      "name": "python"
    }
  },
  "cells": [
    {
      "cell_type": "markdown",
      "source": [
        "# Find issues in the image dataset\n",
        "\n",
        "- https://github.com/woctezuma/steam-DINOv2#filtering-optional"
      ],
      "metadata": {
        "id": "QAF5wev8M7fk"
      }
    },
    {
      "cell_type": "markdown",
      "source": [
        "## Install packages"
      ],
      "metadata": {
        "id": "AOetn6xSNb68"
      }
    },
    {
      "cell_type": "code",
      "source": [
        "%pip install --quiet cleanvision"
      ],
      "metadata": {
        "id": "WO4lkfdaNJkk"
      },
      "execution_count": null,
      "outputs": []
    },
    {
      "cell_type": "markdown",
      "source": [
        "## Download the image dataset"
      ],
      "metadata": {
        "id": "RMgR2SgkNmDC"
      }
    },
    {
      "cell_type": "code",
      "source": [
        "%cd /content\n",
        "\n",
        "!curl -OL https://github.com/woctezuma/steam-DINOv2/releases/download/input/images_partA.tar.gz\n",
        "!curl -OL https://github.com/woctezuma/steam-DINOv2/releases/download/input/images_partB.tar.gz\n",
        "\n",
        "!tar xzf images_partA.tar.gz\n",
        "!tar xzf images_partB.tar.gz"
      ],
      "metadata": {
        "id": "SL7A0j_WNhnm"
      },
      "execution_count": null,
      "outputs": []
    },
    {
      "cell_type": "markdown",
      "source": [
        "## Apply `cleanvision`\n",
        "\n",
        "- https://github.com/cleanlab/cleanvision"
      ],
      "metadata": {
        "id": "eEUVaQ5eNpop"
      }
    },
    {
      "cell_type": "code",
      "execution_count": null,
      "metadata": {
        "id": "oXqBG5bJMv-0"
      },
      "outputs": [],
      "source": [
        "from cleanvision import Imagelab\n",
        "\n",
        "DATASET_PATH = \"images/\"\n",
        "SAVE_PATH = \"results\""
      ]
    },
    {
      "cell_type": "markdown",
      "source": [
        "### Find issues"
      ],
      "metadata": {
        "id": "selSm7qTNaHa"
      }
    },
    {
      "cell_type": "code",
      "source": [
        "find_issues_from_scratch = False\n",
        "\n",
        "if find_issues_from_scratch:\n",
        "  imagelab = Imagelab(data_path=DATASET_PATH)\n",
        "  imagelab.find_issues()\n",
        "  imagelab.save(SAVE_PATH)\n",
        "\n",
        "else:\n",
        "  %cd /content\n",
        "  !curl -OL https://github.com/woctezuma/steam-DINOv2/releases/download/cleanvision/results.tar.gz\n",
        "  !tar xzf results.tar.gz"
      ],
      "metadata": {
        "id": "KYxL8RFwNEKW"
      },
      "execution_count": null,
      "outputs": []
    },
    {
      "cell_type": "markdown",
      "source": [
        "### Report"
      ],
      "metadata": {
        "id": "B7PXkP-UNYrd"
      }
    },
    {
      "cell_type": "code",
      "source": [
        "imagelab = Imagelab.load(SAVE_PATH, DATASET_PATH)\n",
        "imagelab.report()"
      ],
      "metadata": {
        "id": "lXTwXgeiNFci"
      },
      "execution_count": null,
      "outputs": []
    },
    {
      "cell_type": "markdown",
      "source": [
        "## Analyze results"
      ],
      "metadata": {
        "id": "B3MGXKWq2sdV"
      }
    },
    {
      "cell_type": "markdown",
      "source": [
        "### Define utility functions"
      ],
      "metadata": {
        "id": "WQgZAjwSrrk3"
      }
    },
    {
      "cell_type": "code",
      "source": [
        "import json\n",
        "\n",
        "from pathlib import Path\n",
        "\n",
        "def save_to_json(data, fname):\n",
        "  with Path(fname).open('w') as f:\n",
        "    json.dump(data, f, indent=True)"
      ],
      "metadata": {
        "id": "Fpe2ymwernbI"
      },
      "execution_count": null,
      "outputs": []
    },
    {
      "cell_type": "code",
      "source": [
        "IMAGE_SUFFIX = \".jpg\"\n",
        "\n",
        "def to_image_index(image_name,\n",
        "                   image_suffix=IMAGE_SUFFIX):\n",
        "    index_as_str = Path(image_name).name.removesuffix(image_suffix)\n",
        "    return int(index_as_str)\n",
        "\n",
        "def convert_list_to_image_indices(l, image_suffix=IMAGE_SUFFIX):\n",
        "  return sorted([to_image_index(fname, image_suffix) for fname in l])\n",
        "\n",
        "def convert_nested_lists_to_image_indices(nested_lists,\n",
        "                                          image_suffix=IMAGE_SUFFIX):\n",
        "  return [ convert_list_to_image_indices(l, image_suffix) for l in nested_lists ]"
      ],
      "metadata": {
        "id": "Hhz61AHErlpb"
      },
      "execution_count": null,
      "outputs": []
    },
    {
      "cell_type": "markdown",
      "source": [
        "### Summary\n",
        "\n",
        "> Dataframe with **global summary** of all issue types detected in your dataset and the overall prevalence of each type.\n",
        ">\n",
        "> Reference:\n",
        "> - https://cleanvision.readthedocs.io/en/latest/tutorials/tutorial.html#imagelab.issue_summary"
      ],
      "metadata": {
        "id": "SivO3JwI_j8X"
      }
    },
    {
      "cell_type": "code",
      "source": [
        "imagelab.issue_summary"
      ],
      "metadata": {
        "id": "m29cL9VZ2rf7"
      },
      "execution_count": null,
      "outputs": []
    },
    {
      "cell_type": "markdown",
      "source": [
        "### Table\n",
        "\n",
        "> DataFrame **assessing each image** in your dataset, reporting which issues each image exhibits and a score (between 0 and 1):\n",
        "> - a boolean column per issue type shows whether each image exhibits this issue type.\n",
        "> - a numeric column assesses the issue severity in each image, where lower values indicate more severe cases.\n",
        ">\n",
        "> Reference:\n",
        "> - https://cleanvision.readthedocs.io/en/latest/tutorials/tutorial.html#imagelab.issues"
      ],
      "metadata": {
        "id": "G31iAMvV_pxe"
      }
    },
    {
      "cell_type": "markdown",
      "source": [
        "#### List images with at least one issue"
      ],
      "metadata": {
        "id": "oHAIzzaprzrm"
      }
    },
    {
      "cell_type": "code",
      "source": [
        "BOOL_PREFIX = \"is_\"\n",
        "SUFFIX_TO_SKIP = \"_duplicates_issue\"\n",
        "\n",
        "# Reference: https://stackoverflow.com/a/19483025/376454\n",
        "bool_headers = [\n",
        "    header for header in list(imagelab.issues)\n",
        "    if header.startswith(BOOL_PREFIX) and not header.endswith(SUFFIX_TO_SKIP)\n",
        "    ]\n",
        "\n",
        "print('Boolean columns:')\n",
        "print('- ' + '\\n- '.join(bool_headers))\n",
        "\n",
        "detailed_data = {}\n",
        "for header in bool_headers:\n",
        "  selected_images = imagelab.issues[imagelab.issues[header]]\n",
        "  selected_image_files = selected_images.index.tolist()\n",
        "  detailed_data[header] = convert_list_to_image_indices(selected_image_files)"
      ],
      "metadata": {
        "id": "Wy-9ipDjpXac"
      },
      "execution_count": null,
      "outputs": []
    },
    {
      "cell_type": "markdown",
      "source": [
        "#### Export to JSON"
      ],
      "metadata": {
        "id": "3zoiBWWlryyB"
      }
    },
    {
      "cell_type": "code",
      "source": [
        "fname = 'detailed_issues.json'\n",
        "save_to_json(detailed_data, fname)"
      ],
      "metadata": {
        "id": "IieC3WfP5gvc"
      },
      "execution_count": null,
      "outputs": []
    },
    {
      "cell_type": "code",
      "source": [
        "imagelab.issues[header]"
      ],
      "metadata": {
        "id": "EFl2Vz_x6KQc"
      },
      "execution_count": null,
      "outputs": []
    },
    {
      "cell_type": "markdown",
      "source": [
        "### Duplicate sets\n",
        "\n",
        "> `imagelab.info` can be used to retrieve **which images** are near or exact duplicates of each other.\n",
        ">\n",
        "> References:\n",
        "> - https://cleanvision.readthedocs.io/en/latest/tutorials/tutorial.html#imagelab.info\n",
        "> - https://cleanvision.readthedocs.io/en/latest/tutorials/tutorial.html#Duplicate-sets"
      ],
      "metadata": {
        "id": "22mifWGC_5yH"
      }
    },
    {
      "cell_type": "markdown",
      "source": [
        "#### Count duplicate sets"
      ],
      "metadata": {
        "id": "eH5LQM3WkOnV"
      }
    },
    {
      "cell_type": "code",
      "source": [
        "exact_duplicates = convert_nested_lists_to_image_indices(imagelab.info['exact_duplicates']['sets'])\n",
        "print(f\"[exact duplicates] #sets = {len(exact_duplicates)}\")\n",
        "\n",
        "near_duplicates = convert_nested_lists_to_image_indices(imagelab.info['near_duplicates']['sets'])\n",
        "print(f\"[near duplicates] #sets = {len(near_duplicates)}\")"
      ],
      "metadata": {
        "id": "IKz7BsH93zhy"
      },
      "execution_count": null,
      "outputs": []
    },
    {
      "cell_type": "markdown",
      "source": [
        "#### Export to JSON"
      ],
      "metadata": {
        "id": "NQb4b7pbkIlF"
      }
    },
    {
      "cell_type": "code",
      "source": [
        "for field in ['exact_duplicates', 'near_duplicates']:\n",
        "  fname = f'{field}.json'\n",
        "  data = convert_nested_lists_to_image_indices(imagelab.info[field]['sets'])\n",
        "  save_to_json(data, fname)"
      ],
      "metadata": {
        "id": "Vji-0HGPjFVi"
      },
      "execution_count": null,
      "outputs": []
    }
  ]
}