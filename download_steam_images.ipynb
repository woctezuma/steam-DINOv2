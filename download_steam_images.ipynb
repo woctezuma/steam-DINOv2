{
  "nbformat": 4,
  "nbformat_minor": 0,
  "metadata": {
    "colab": {
      "private_outputs": true,
      "provenance": [],
      "collapsed_sections": [
        "OjRDpieKHIQw"
      ]
    },
    "kernelspec": {
      "name": "python3",
      "display_name": "Python 3"
    },
    "language_info": {
      "name": "python"
    }
  },
  "cells": [
    {
      "cell_type": "markdown",
      "source": [
        "# Download Steam Images\n",
        "\n",
        "Reference: https://github.com/woctezuma/steam-DINOv2"
      ],
      "metadata": {
        "id": "_KtL_UvkHX0d"
      }
    },
    {
      "cell_type": "markdown",
      "source": [
        "## Define functions\n",
        "\n",
        "Reference: https://github.com/woctezuma/steam-store-snapshots"
      ],
      "metadata": {
        "id": "OjRDpieKHIQw"
      }
    },
    {
      "cell_type": "code",
      "source": [
        "import requests\n",
        "\n",
        "API_URL = \"https://api.steampowered.com/ISteamApps/GetAppList/v2\"\n",
        "\n",
        "def get_app_ids(url=API_URL):\n",
        "  r = requests.get(url)\n",
        "\n",
        "  if r.ok:\n",
        "    data = r.json()\n",
        "    app_ids = { app[\"appid\"] for app in data[\"applist\"][\"apps\"] }\n",
        "  else:\n",
        "    app_ids = {}\n",
        "\n",
        "  return sorted(app_ids)"
      ],
      "metadata": {
        "id": "VdWdYFsRGMsv"
      },
      "execution_count": null,
      "outputs": []
    },
    {
      "cell_type": "code",
      "source": [
        "CDN_URL = \"https://cdn.cloudflare.steamstatic.com/steam/apps\"\n",
        "IMAGE_NAME = \"library_600x900.jpg\"\n",
        "\n",
        "def get_image_url(app_id):\n",
        "  return f\"{CDN_URL}/{app_id}/{IMAGE_NAME}\""
      ],
      "metadata": {
        "id": "nqt5deQ-GuF_"
      },
      "execution_count": null,
      "outputs": []
    },
    {
      "cell_type": "code",
      "source": [
        "URL_LIST_FNAME = \"urls.txt\"\n",
        "\n",
        "def save_list(elements, fname):\n",
        "  with open(fname, 'w') as f:\n",
        "    for e in elements:\n",
        "      f.write(f'{e}\\n')\n",
        "\n",
        "def save_image_list(app_ids, fname=URL_LIST_FNAME):\n",
        "  elements = [get_image_url(app_id) for app_id in app_ids ]\n",
        "  save_list(elements, fname)"
      ],
      "metadata": {
        "id": "XDldQ02pGlPM"
      },
      "execution_count": null,
      "outputs": []
    },
    {
      "cell_type": "code",
      "execution_count": null,
      "metadata": {
        "id": "PUaeULFk83Ja"
      },
      "outputs": [],
      "source": [
        "import json\n",
        "\n",
        "APP_LIST_FNAME = \"apps.json\"\n",
        "FILTERED_APP_LIST_FNAME = 'filtered_apps.json'\n",
        "\n",
        "def save_app_list(app_ids, fname=APP_LIST_FNAME):\n",
        "  with open(fname, 'w') as f:\n",
        "    json.dump(app_ids, f)"
      ]
    },
    {
      "cell_type": "markdown",
      "source": [
        "## Prepare app IDs and image urls"
      ],
      "metadata": {
        "id": "01c4uUC0HKwL"
      }
    },
    {
      "cell_type": "code",
      "source": [
        "app_ids = get_app_ids()"
      ],
      "metadata": {
        "id": "apVEv6A59Q-2"
      },
      "execution_count": null,
      "outputs": []
    },
    {
      "cell_type": "code",
      "source": [
        "save_app_list(app_ids, fname=APP_LIST_FNAME)\n",
        "save_image_list(app_ids, fname=URL_LIST_FNAME)"
      ],
      "metadata": {
        "id": "mbrwgZ6Qayiv"
      },
      "execution_count": null,
      "outputs": []
    },
    {
      "cell_type": "markdown",
      "source": [
        "## Download images\n",
        "\n",
        "Reference: https://github.com/rom1504/img2dataset"
      ],
      "metadata": {
        "id": "KVzQOYEMHPsL"
      }
    },
    {
      "cell_type": "code",
      "source": [
        "%pip install -qq img2dataset"
      ],
      "metadata": {
        "id": "U5XMVRgMHHmf"
      },
      "execution_count": null,
      "outputs": []
    },
    {
      "cell_type": "code",
      "source": [
        "!img2dataset --url_list=$URL_LIST_FNAME --image_size=224 --resize_mode=keep_ratio"
      ],
      "metadata": {
        "id": "SEmNSs27_3BT"
      },
      "execution_count": null,
      "outputs": []
    },
    {
      "cell_type": "code",
      "source": [
        "!du -sh images\n",
        "!tar czf images_partA.tar.gz images/0000*/\n",
        "!tar czf images_partB.tar.gz images/0001*/\n",
        "!du -sh images_part*.tar.gz"
      ],
      "metadata": {
        "id": "PFRTprY0HkK6"
      },
      "execution_count": null,
      "outputs": []
    },
    {
      "cell_type": "markdown",
      "source": [
        "## Filter app IDs"
      ],
      "metadata": {
        "id": "K6lBSYINSzRN"
      }
    },
    {
      "cell_type": "code",
      "source": [
        "from pathlib import Path\n",
        "\n",
        "def to_image_index(image_name, image_suffix='.jpg'):\n",
        "  index_as_str = Path(image_name).name.removesuffix(image_suffix)\n",
        "  return int(index_as_str)"
      ],
      "metadata": {
        "id": "l1bWp2O6QsbB"
      },
      "execution_count": null,
      "outputs": []
    },
    {
      "cell_type": "code",
      "source": [
        "import glob\n",
        "\n",
        "image_names = sorted(glob.glob('images/*/*.jpg'))"
      ],
      "metadata": {
        "id": "uebImJdUacnu"
      },
      "execution_count": null,
      "outputs": []
    },
    {
      "cell_type": "code",
      "source": [
        "image_indices = [to_image_index(image_name) for image_name in image_names]\n",
        "filtered_app_ids = [app_ids[index] for index in image_indices]"
      ],
      "metadata": {
        "id": "rgvJyFVKSBue"
      },
      "execution_count": null,
      "outputs": []
    },
    {
      "cell_type": "code",
      "source": [
        "save_app_list(filtered_app_ids, fname=FILTERED_APP_LIST_FNAME)"
      ],
      "metadata": {
        "id": "ivxAmcGVaw87"
      },
      "execution_count": null,
      "outputs": []
    }
  ]
}