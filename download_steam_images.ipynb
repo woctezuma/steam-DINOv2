{
  "nbformat": 4,
  "nbformat_minor": 0,
  "metadata": {
    "colab": {
      "private_outputs": true,
      "provenance": [],
      "collapsed_sections": [
        "OjRDpieKHIQw"
      ]
    },
    "kernelspec": {
      "name": "python3",
      "display_name": "Python 3"
    },
    "language_info": {
      "name": "python"
    }
  },
  "cells": [
    {
      "cell_type": "markdown",
      "source": [
        "# Download Steam Images\n",
        "\n",
        "Reference: https://github.com/woctezuma/steam-DINOv2"
      ],
      "metadata": {
        "id": "_KtL_UvkHX0d"
      }
    },
    {
      "cell_type": "markdown",
      "source": [
        "## Installation"
      ],
      "metadata": {
        "id": "stCclNiSdBPS"
      }
    },
    {
      "cell_type": "code",
      "source": [
        "%cd /content\n",
        "!git clone https://github.com/woctezuma/steam-DINOv2.git\n",
        "%cd steam-DINOv2\n",
        "%pip install --quiet -r requirements.txt"
      ],
      "metadata": {
        "id": "u1VqqPdqdCzM"
      },
      "execution_count": null,
      "outputs": []
    },
    {
      "cell_type": "markdown",
      "source": [
        "## Prepare app IDs and image urls"
      ],
      "metadata": {
        "id": "01c4uUC0HKwL"
      }
    },
    {
      "cell_type": "code",
      "source": [
        "from src.api_utils import get_app_ids\n",
        "\n",
        "app_ids = get_app_ids()"
      ],
      "metadata": {
        "id": "apVEv6A59Q-2"
      },
      "execution_count": null,
      "outputs": []
    },
    {
      "cell_type": "code",
      "source": [
        "from src.data_utils import save_app_list, save_image_list, APP_LIST_FNAME, URL_LIST_FNAME\n",
        "\n",
        "save_app_list(app_ids, fname=APP_LIST_FNAME)\n",
        "save_image_list(app_ids, fname=URL_LIST_FNAME)"
      ],
      "metadata": {
        "id": "mbrwgZ6Qayiv"
      },
      "execution_count": null,
      "outputs": []
    },
    {
      "cell_type": "markdown",
      "source": [
        "## Download images\n",
        "\n",
        "Reference: https://github.com/rom1504/img2dataset"
      ],
      "metadata": {
        "id": "KVzQOYEMHPsL"
      }
    },
    {
      "cell_type": "code",
      "source": [
        "!img2dataset --url_list=$URL_LIST_FNAME --image_size=224 --resize_mode=keep_ratio"
      ],
      "metadata": {
        "id": "SEmNSs27_3BT"
      },
      "execution_count": null,
      "outputs": []
    },
    {
      "cell_type": "code",
      "source": [
        "!du -sh images\n",
        "!tar czf images_partA.tar.gz images/0000*/\n",
        "!tar czf images_partB.tar.gz images/0001*/\n",
        "!du -sh images_part*.tar.gz"
      ],
      "metadata": {
        "id": "PFRTprY0HkK6"
      },
      "execution_count": null,
      "outputs": []
    },
    {
      "cell_type": "markdown",
      "source": [
        "## Filter app IDs"
      ],
      "metadata": {
        "id": "K6lBSYINSzRN"
      }
    },
    {
      "cell_type": "code",
      "source": [
        "import glob\n",
        "\n",
        "image_names = sorted(glob.glob('images/*/*.jpg'))"
      ],
      "metadata": {
        "id": "uebImJdUacnu"
      },
      "execution_count": null,
      "outputs": []
    },
    {
      "cell_type": "code",
      "source": [
        "from src.conversion_utils import to_image_index\n",
        "\n",
        "image_indices = [to_image_index(image_name) for image_name in image_names]\n",
        "filtered_app_ids = [app_ids[index] for index in image_indices]"
      ],
      "metadata": {
        "id": "rgvJyFVKSBue"
      },
      "execution_count": null,
      "outputs": []
    },
    {
      "cell_type": "code",
      "source": [
        "from src.data_utils import FILTERED_INDEX_FNAME, FILTERED_APP_LIST_FNAME\n",
        "\n",
        "save_app_list(image_indices, fname=FILTERED_INDEX_FNAME)\n",
        "save_app_list(filtered_app_ids, fname=FILTERED_APP_LIST_FNAME)"
      ],
      "metadata": {
        "id": "ivxAmcGVaw87"
      },
      "execution_count": null,
      "outputs": []
    }
  ]
}