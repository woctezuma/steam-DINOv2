{
  "nbformat": 4,
  "nbformat_minor": 0,
  "metadata": {
    "colab": {
      "private_outputs": true,
      "provenance": [],
      "gpuType": "T4",
      "collapsed_sections": [
        "NywhXv06XrtQ",
        "pPDusooMU020",
        "AxRZ5wXrU_-S",
        "QaYJYzeZVgCd",
        "6-9ud4uIb4Ln"
      ]
    },
    "kernelspec": {
      "name": "python3",
      "display_name": "Python 3"
    },
    "language_info": {
      "name": "python"
    },
    "accelerator": "GPU"
  },
  "cells": [
    {
      "cell_type": "markdown",
      "source": [
        "# Match Steam Images\n",
        "\n",
        "- https://github.com/woctezuma/steam-DINOv2"
      ],
      "metadata": {
        "id": "zlbBMcishyOA"
      }
    },
    {
      "cell_type": "markdown",
      "source": [
        "## Install packages"
      ],
      "metadata": {
        "id": "NywhXv06XrtQ"
      }
    },
    {
      "cell_type": "code",
      "source": [
        "%pip install --quiet faiss-gpu xformers mediapy steamspypi"
      ],
      "metadata": {
        "id": "xlY_NZ0IXthY"
      },
      "execution_count": null,
      "outputs": []
    },
    {
      "cell_type": "markdown",
      "source": [
        "## Download the image dataset"
      ],
      "metadata": {
        "id": "pPDusooMU020"
      }
    },
    {
      "cell_type": "code",
      "source": [
        "%cd /content\n",
        "\n",
        "!curl -OL https://github.com/woctezuma/steam-DINOv2/releases/download/input/images_partA.tar.gz\n",
        "!curl -OL https://github.com/woctezuma/steam-DINOv2/releases/download/input/images_partB.tar.gz\n",
        "\n",
        "!tar xzf images_partA.tar.gz\n",
        "!tar xzf images_partB.tar.gz\n",
        "\n",
        "!curl -OL https://github.com/woctezuma/steam-DINOv2/releases/download/input/apps.json\n",
        "!curl -OL https://github.com/woctezuma/steam-DINOv2/releases/download/input/filtered_indices.json"
      ],
      "metadata": {
        "id": "SRxd1gcxU5kq"
      },
      "execution_count": null,
      "outputs": []
    },
    {
      "cell_type": "markdown",
      "source": [
        "## Pick a DINOv2 model\n",
        "\n",
        "- https://github.com/facebookresearch/dinov2#pretrained-models"
      ],
      "metadata": {
        "id": "7mD4EQFaVEwS"
      }
    },
    {
      "cell_type": "code",
      "source": [
        "all_model_names = [ 'dinov2_vits14', 'dinov2_vitb14', 'dinov2_vitl14' ]\n",
        "model_name = all_model_names[0]"
      ],
      "metadata": {
        "id": "g4XHOWvgVD_D"
      },
      "execution_count": null,
      "outputs": []
    },
    {
      "cell_type": "markdown",
      "source": [
        "## Extract features\n",
        "\n",
        "- https://github.com/woctezuma/feature-extractor"
      ],
      "metadata": {
        "id": "AxRZ5wXrU_-S"
      }
    },
    {
      "cell_type": "code",
      "source": [
        "extract_features_from_scratch = False\n",
        "\n",
        "if extract_features_from_scratch:\n",
        "  %cd /content\n",
        "  !git clone https://github.com/woctezuma/feature-extractor.git\n",
        "  %cd feature-extractor\n",
        "  %pip install --quiet -r requirements.txt\n",
        "\n",
        "  !python extract_fts.py \\\n",
        "  --data_dir /content/images --batch_size 256 \\\n",
        "  --resize_size 224 --keep_ratio --crop_size 224 \\\n",
        "  --model_repo \"facebookresearch/dinov2\" --model_name {model_name} \\\n",
        "  --torch_features fts_{model_name}.pth \\\n",
        "  --numpy_features fts_{model_name}.npy\n",
        "\n",
        "else:\n",
        "  %mkdir -p /content/feature-extractor/features/\n",
        "  %cd /content/feature-extractor/features/\n",
        "\n",
        "  !curl -OL https://github.com/woctezuma/steam-DINOv2/releases/download/features/fts_{model_name}.npy\n",
        "  !curl -OL https://github.com/woctezuma/steam-DINOv2/releases/download/features/img_list.json"
      ],
      "metadata": {
        "id": "25QrvgrWVMvy"
      },
      "execution_count": null,
      "outputs": []
    },
    {
      "cell_type": "markdown",
      "source": [
        "## Match features\n",
        "\n",
        "- https://github.com/woctezuma/feature-matcher"
      ],
      "metadata": {
        "id": "QaYJYzeZVgCd"
      }
    },
    {
      "cell_type": "code",
      "source": [
        "match_features_from_scratch = False\n",
        "\n",
        "if match_features_from_scratch:\n",
        "  %cd /content\n",
        "  !git clone https://github.com/woctezuma/feature-matcher.git\n",
        "  %cd feature-matcher\n",
        "  %pip install --quiet -r requirements.txt\n",
        "\n",
        "  !python match_fts.py \\\n",
        "  --input_dir /content/feature-extractor/features \\\n",
        "  --feature_filename fts_{model_name}.npy \\\n",
        "  --numpy_matches matches_{model_name}.npy \\\n",
        "  --numpy_similarity_scores scores_{model_name}.npy \\\n",
        "  --num_neighbors 10\n",
        "\n",
        "else:\n",
        "  %mkdir -p /content/feature-matcher/matches/\n",
        "  %cd /content/feature-matcher/matches/\n",
        "\n",
        "  !curl -OL https://github.com/woctezuma/steam-DINOv2/releases/download/matches/matches_{model_name}.npy\n",
        "  !curl -OL https://github.com/woctezuma/steam-DINOv2/releases/download/matches/scores_{model_name}.npy"
      ],
      "metadata": {
        "id": "7hrct906VjF8"
      },
      "execution_count": null,
      "outputs": []
    },
    {
      "cell_type": "markdown",
      "source": [
        "## Process a query image"
      ],
      "metadata": {
        "id": "eQrVmVjCMTT1"
      }
    },
    {
      "cell_type": "markdown",
      "source": [
        "### Define functions"
      ],
      "metadata": {
        "id": "6-9ud4uIb4Ln"
      }
    },
    {
      "cell_type": "code",
      "source": [
        "CDN_URL = \"https://cdn.cloudflare.steamstatic.com/steam/apps\"\n",
        "IMAGE_NAME = \"library_600x900.jpg\"\n",
        "\n",
        "def get_image_url(app_id):\n",
        "  return f\"{CDN_URL}/{app_id}/{IMAGE_NAME}\""
      ],
      "metadata": {
        "id": "oJcUrd7EWtjy"
      },
      "execution_count": null,
      "outputs": []
    },
    {
      "cell_type": "code",
      "source": [
        "import mediapy as media\n",
        "\n",
        "def get_image(app_id):\n",
        "  return media.read_image(get_image_url(app_id))"
      ],
      "metadata": {
        "id": "TkMUx9AoYfMf"
      },
      "execution_count": null,
      "outputs": []
    },
    {
      "cell_type": "code",
      "source": [
        "from torchvision import transforms\n",
        "\n",
        "# Reference: https://raw.githubusercontent.com/woctezuma/feature-extractor/minimal/src/transform_utils.py\n",
        "\n",
        "IMAGENET_DEFAULT_MEAN = (0.485, 0.456, 0.406)\n",
        "IMAGENET_DEFAULT_STD = (0.229, 0.224, 0.225)\n",
        "\n",
        "\n",
        "def get_target_image_size(resize_size=256, keep_ratio=True):\n",
        "    return resize_size if keep_ratio else (resize_size, resize_size)\n",
        "\n",
        "\n",
        "def get_transform(\n",
        "    resize_size=256,\n",
        "    keep_ratio=True,\n",
        "    crop_size=224,\n",
        "    interpolation=transforms.InterpolationMode.BICUBIC,\n",
        "):\n",
        "    transforms_list = [\n",
        "        transforms.Resize(\n",
        "            get_target_image_size(resize_size, keep_ratio),\n",
        "            interpolation=interpolation,\n",
        "        ),\n",
        "        transforms.CenterCrop(crop_size),\n",
        "        transforms.ToTensor(),\n",
        "        transforms.Normalize(mean=IMAGENET_DEFAULT_MEAN, std=IMAGENET_DEFAULT_STD),\n",
        "    ]\n",
        "    return transforms.Compose(transforms_list)\n"
      ],
      "metadata": {
        "id": "y3Gx_jvcTPlo"
      },
      "execution_count": null,
      "outputs": []
    },
    {
      "cell_type": "code",
      "source": [
        "import numpy as np\n",
        "from torchvision import transforms\n",
        "\n",
        "def get_features(app_id, preprocess, model):\n",
        "  img = get_image(app_id)\n",
        "\n",
        "  if isinstance(img, np.ndarray):\n",
        "    img = transforms.ToPILImage()(img)\n",
        "\n",
        "  img = preprocess(img)\n",
        "\n",
        "  img = img[None]\n",
        "\n",
        "  return model(img)"
      ],
      "metadata": {
        "id": "azvWbZMzZIEI"
      },
      "execution_count": null,
      "outputs": []
    },
    {
      "cell_type": "code",
      "source": [
        "import faiss\n",
        "\n",
        "# Reference: https://github.com/woctezuma/feature-matcher/blob/main/src/match_utils.py\n",
        "\n",
        "def build_faiss_index(embeddings):\n",
        "    xb = embeddings.astype('float32')\n",
        "\n",
        "    # Cosine similarity is a dot product on normalized vectors.\n",
        "    # Embeddings are normalized because faiss uses METRIC_INNER_PRODUCT. See:\n",
        "    # https://github.com/facebookresearch/faiss/wiki/MetricType-and-distances\n",
        "    faiss.normalize_L2(xb)\n",
        "\n",
        "    # Exact Search for Inner Product. See:\n",
        "    # https://github.com/facebookresearch/faiss/wiki/Faiss-indexes\n",
        "    index = faiss.IndexFlatIP(xb.shape[1])\n",
        "    index.add(xb)\n",
        "\n",
        "    return index\n",
        "\n",
        "\n",
        "def search_faiss_index(\n",
        "    index,\n",
        "    query_vectors,\n",
        "    num_neighbors=10,\n",
        "):\n",
        "    # If there is only one query vector, then add the batch dimension.\n",
        "    if len(query_vectors.shape) == 1:\n",
        "        query_vectors = query_vectors[None, :]\n",
        "\n",
        "    xq = query_vectors.astype('float32')\n",
        "\n",
        "    # Cosine similarity is a dot product on normalized vectors.\n",
        "    faiss.normalize_L2(xq)\n",
        "\n",
        "    return index.search(xq, num_neighbors)\n"
      ],
      "metadata": {
        "id": "KTtKJR69Zwja"
      },
      "execution_count": null,
      "outputs": []
    },
    {
      "cell_type": "code",
      "source": [
        "import json\n",
        "\n",
        "FOLDER_NAME = \"/content\"\n",
        "APP_LIST_FNAME = f\"{FOLDER_NAME}/apps.json\"\n",
        "FILTERED_INDEX_FNAME = f\"{FOLDER_NAME}/filtered_indices.json\"\n",
        "\n",
        "def load_data(fname):\n",
        "  with open(fname) as f:\n",
        "    data = json.load(f)\n",
        "  return data\n",
        "\n",
        "def load_apps():\n",
        "  return load_data(fname=APP_LIST_FNAME)\n",
        "\n",
        "def load_indices():\n",
        "  return load_data(fname=FILTERED_INDEX_FNAME)"
      ],
      "metadata": {
        "id": "saO4_CJPcmf-"
      },
      "execution_count": null,
      "outputs": []
    },
    {
      "cell_type": "code",
      "source": [
        "def convert_faiss_output_to_app_id(i, base_apps, base_indices):\n",
        "  return base_apps[base_indices[i]]\n",
        "\n",
        "def find_similar_app_ids(query_app_id, preprocess, model, index, base_apps, base_indices, num_neighbors=10):\n",
        "  query_vector = get_features(query_app_id, preprocess, model)\n",
        "  scores, indices = search_faiss_index(index, query_vector, num_neighbors)\n",
        "\n",
        "  similar_app_ids = [ convert_faiss_output_to_app_id(i, base_apps, base_indices)\n",
        "                      for i in indices\n",
        "                    ]\n",
        "\n",
        "  return similar_app_ids"
      ],
      "metadata": {
        "id": "IUSMkhgqYzWl"
      },
      "execution_count": null,
      "outputs": []
    },
    {
      "cell_type": "markdown",
      "source": [
        "### Run"
      ],
      "metadata": {
        "id": "ULe9cRvXb1nf"
      }
    },
    {
      "cell_type": "code",
      "source": [
        "preprocess = get_transform(resize_size=224, keep_ratio=True, crop_size=224)"
      ],
      "metadata": {
        "id": "s9cd1TRggkBG"
      },
      "execution_count": null,
      "outputs": []
    },
    {
      "cell_type": "code",
      "source": [
        "import torch\n",
        "\n",
        "model = torch.hub.load('facebookresearch/dinov2', model_name)"
      ],
      "metadata": {
        "id": "-GG4e_6_M1bG"
      },
      "execution_count": null,
      "outputs": []
    },
    {
      "cell_type": "code",
      "source": [
        "import numpy as np\n",
        "\n",
        "embeddings = np.load(f'/content/feature-extractor/features/fts_{model_name}.npy')\n",
        "index = build_faiss_index(embeddings)"
      ],
      "metadata": {
        "id": "iw8ylRCNatmB"
      },
      "execution_count": null,
      "outputs": []
    },
    {
      "cell_type": "code",
      "source": [
        "base_apps = load_apps()\n",
        "base_indices = load_indices()"
      ],
      "metadata": {
        "id": "hRKcRaMPdHpl"
      },
      "execution_count": null,
      "outputs": []
    },
    {
      "cell_type": "code",
      "source": [
        "app_id = 271590\n",
        "num_neighbors = 10\n",
        "\n",
        "similar_app_ids = find_similar_app_ids(app_id, preprocess, model, index, base_apps, base_indices, num_neighbors)"
      ],
      "metadata": {
        "id": "GRLw-roSZFne"
      },
      "execution_count": null,
      "outputs": []
    },
    {
      "cell_type": "markdown",
      "source": [
        "## Export Top 100 to Markdown"
      ],
      "metadata": {
        "id": "cAEDwjJceDsr"
      }
    },
    {
      "cell_type": "markdown",
      "source": [
        "### Define functions"
      ],
      "metadata": {
        "id": "pOF034RbUY5f"
      }
    },
    {
      "cell_type": "code",
      "source": [
        "import steamspypi\n",
        "\n",
        "def get_top_100(target='top100in2weeks'):\n",
        "  data = steamspypi.download({'request': target})\n",
        "  app_ids = list(data.keys())\n",
        "\n",
        "  return app_ids"
      ],
      "metadata": {
        "id": "_wEVJwolUbyM"
      },
      "execution_count": null,
      "outputs": []
    },
    {
      "cell_type": "markdown",
      "source": [
        "### Run"
      ],
      "metadata": {
        "id": "QNDI3sCVUXu1"
      }
    },
    {
      "cell_type": "code",
      "source": [
        "# TODO"
      ],
      "metadata": {
        "id": "ssq-e_shTxDI"
      },
      "execution_count": null,
      "outputs": []
    }
  ]
}