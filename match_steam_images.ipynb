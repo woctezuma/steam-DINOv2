{
  "nbformat": 4,
  "nbformat_minor": 0,
  "metadata": {
    "colab": {
      "private_outputs": true,
      "provenance": [],
      "gpuType": "T4",
      "collapsed_sections": [
        "NywhXv06XrtQ",
        "pPDusooMU020",
        "AxRZ5wXrU_-S",
        "QaYJYzeZVgCd"
      ]
    },
    "kernelspec": {
      "name": "python3",
      "display_name": "Python 3"
    },
    "language_info": {
      "name": "python"
    },
    "accelerator": "GPU"
  },
  "cells": [
    {
      "cell_type": "markdown",
      "source": [
        "# Match Steam Images\n",
        "\n",
        "- https://github.com/woctezuma/steam-DINOv2"
      ],
      "metadata": {
        "id": "zlbBMcishyOA"
      }
    },
    {
      "cell_type": "markdown",
      "source": [
        "## Installation"
      ],
      "metadata": {
        "id": "NywhXv06XrtQ"
      }
    },
    {
      "cell_type": "code",
      "source": [
        "%cd /content\n",
        "!git clone https://github.com/woctezuma/steam-DINOv2.git\n",
        "%cd steam-DINOv2\n",
        "%pip install --quiet -r requirements.txt"
      ],
      "metadata": {
        "id": "xlY_NZ0IXthY"
      },
      "execution_count": null,
      "outputs": []
    },
    {
      "cell_type": "markdown",
      "source": [
        "## Download the image dataset"
      ],
      "metadata": {
        "id": "pPDusooMU020"
      }
    },
    {
      "cell_type": "code",
      "source": [
        "%cd /content\n",
        "\n",
        "!curl -OL https://github.com/woctezuma/steam-DINOv2/releases/download/input/images_partA.tar.gz\n",
        "!curl -OL https://github.com/woctezuma/steam-DINOv2/releases/download/input/images_partB.tar.gz\n",
        "\n",
        "!tar xzf images_partA.tar.gz\n",
        "!tar xzf images_partB.tar.gz\n",
        "\n",
        "!curl -OL https://github.com/woctezuma/steam-DINOv2/releases/download/input/apps.json\n",
        "!curl -OL https://github.com/woctezuma/steam-DINOv2/releases/download/input/filtered_indices.json"
      ],
      "metadata": {
        "id": "SRxd1gcxU5kq"
      },
      "execution_count": null,
      "outputs": []
    },
    {
      "cell_type": "markdown",
      "source": [
        "## Pick a DINOv2 model\n",
        "\n",
        "- https://github.com/facebookresearch/dinov2#pretrained-models"
      ],
      "metadata": {
        "id": "7mD4EQFaVEwS"
      }
    },
    {
      "cell_type": "code",
      "source": [
        "all_model_names = [ 'dinov2_vits14', 'dinov2_vitb14', 'dinov2_vitl14' ]\n",
        "model_name = all_model_names[0]"
      ],
      "metadata": {
        "id": "g4XHOWvgVD_D"
      },
      "execution_count": null,
      "outputs": []
    },
    {
      "cell_type": "markdown",
      "source": [
        "## Extract features\n",
        "\n",
        "- https://github.com/woctezuma/feature-extractor"
      ],
      "metadata": {
        "id": "AxRZ5wXrU_-S"
      }
    },
    {
      "cell_type": "code",
      "source": [
        "extract_features_from_scratch = False\n",
        "\n",
        "if extract_features_from_scratch:\n",
        "  %cd /content\n",
        "  !git clone https://github.com/woctezuma/feature-extractor.git\n",
        "  %cd feature-extractor\n",
        "  %pip install --quiet -r requirements.txt\n",
        "\n",
        "  !python extract_fts.py \\\n",
        "  --data_dir /content/images --batch_size 256 \\\n",
        "  --resize_size 224 --keep_ratio --crop_size 224 \\\n",
        "  --model_repo \"facebookresearch/dinov2\" --model_name {model_name} \\\n",
        "  --torch_features fts_{model_name}.pth \\\n",
        "  --numpy_features fts_{model_name}.npy\n",
        "\n",
        "else:\n",
        "  %mkdir -p /content/feature-extractor/features/\n",
        "  %cd /content/feature-extractor/features/\n",
        "\n",
        "  !curl -OL https://github.com/woctezuma/steam-DINOv2/releases/download/features/fts_{model_name}.npy\n",
        "  !curl -OL https://github.com/woctezuma/steam-DINOv2/releases/download/features/img_list.json"
      ],
      "metadata": {
        "id": "25QrvgrWVMvy"
      },
      "execution_count": null,
      "outputs": []
    },
    {
      "cell_type": "markdown",
      "source": [
        "## Match features\n",
        "\n",
        "- https://github.com/woctezuma/feature-matcher"
      ],
      "metadata": {
        "id": "QaYJYzeZVgCd"
      }
    },
    {
      "cell_type": "code",
      "source": [
        "match_features_from_scratch = False\n",
        "\n",
        "if match_features_from_scratch:\n",
        "  %cd /content\n",
        "  !git clone https://github.com/woctezuma/feature-matcher.git\n",
        "  %cd feature-matcher\n",
        "  %pip install --quiet -r requirements.txt\n",
        "\n",
        "  !python match_fts.py \\\n",
        "  --input_dir /content/feature-extractor/features \\\n",
        "  --feature_filename fts_{model_name}.npy \\\n",
        "  --numpy_matches matches_{model_name}.npy \\\n",
        "  --numpy_similarity_scores scores_{model_name}.npy \\\n",
        "  --num_neighbors 10\n",
        "\n",
        "else:\n",
        "  %mkdir -p /content/feature-matcher/matches/\n",
        "  %cd /content/feature-matcher/matches/\n",
        "\n",
        "  !curl -OL https://github.com/woctezuma/steam-DINOv2/releases/download/matches/matches_{model_name}.npy\n",
        "  !curl -OL https://github.com/woctezuma/steam-DINOv2/releases/download/matches/scores_{model_name}.npy"
      ],
      "metadata": {
        "id": "7hrct906VjF8"
      },
      "execution_count": null,
      "outputs": []
    },
    {
      "cell_type": "markdown",
      "source": [],
      "metadata": {
        "id": "eQrVmVjCMTT1"
      }
    },
    {
      "cell_type": "markdown",
      "source": [
        "## Define functions"
      ],
      "metadata": {
        "id": "kY8eaQ8Hj99d"
      }
    },
    {
      "cell_type": "code",
      "source": [
        "from src.data_utils import load_data, APP_LIST_FNAME, FILTERED_INDEX_FNAME\n",
        "\n",
        "DATA_FOLDER = \"/content/steam-DINOv2\"\n",
        "\n",
        "def load_apps():\n",
        "  fname = f\"{DATA_FOLDER}/{APP_LIST_FNAME}\"\n",
        "  return load_data(fname)\n",
        "\n",
        "def load_indices():\n",
        "  fname = f\"{DATA_FOLDER}/{FILTERED_INDEX_FNAME}\"\n",
        "  return load_data(fname)"
      ],
      "metadata": {
        "id": "DUUSa5MBkAKk"
      },
      "execution_count": null,
      "outputs": []
    },
    {
      "cell_type": "code",
      "source": [
        "import numpy as np\n",
        "\n",
        "def load_precomputed_embeddings(model_name):\n",
        "  fname = f'/content/feature-extractor/features/fts_{model_name}.npy'\n",
        "  return np.load(fname)\n",
        "\n",
        "def load_precomputed_matches(model_name):\n",
        "  fname = f\"/content/feature-matcher/matches/matches_{model_name}.npy\"\n",
        "  return np.load(fname)"
      ],
      "metadata": {
        "id": "d-kG1ufYk0ys"
      },
      "execution_count": null,
      "outputs": []
    },
    {
      "cell_type": "code",
      "source": [
        "from src.match_utils import build_faiss_index\n",
        "\n",
        "def load_faiss_index(model_name):\n",
        "  embeddings = load_precomputed_embeddings(model_name)\n",
        "  return build_faiss_index(embeddings)"
      ],
      "metadata": {
        "id": "RceuVa7ylMBJ"
      },
      "execution_count": null,
      "outputs": []
    },
    {
      "cell_type": "markdown",
      "source": [
        "## Process a query image"
      ],
      "metadata": {
        "id": "ULe9cRvXb1nf"
      }
    },
    {
      "cell_type": "code",
      "source": [
        "from src.transform_utils import get_transform\n",
        "\n",
        "preprocess = get_transform(resize_size=224, keep_ratio=True, crop_size=224)"
      ],
      "metadata": {
        "id": "s9cd1TRggkBG"
      },
      "execution_count": null,
      "outputs": []
    },
    {
      "cell_type": "code",
      "source": [
        "import torch\n",
        "\n",
        "model = torch.hub.load('facebookresearch/dinov2', model_name).cuda()"
      ],
      "metadata": {
        "id": "-GG4e_6_M1bG"
      },
      "execution_count": null,
      "outputs": []
    },
    {
      "cell_type": "code",
      "source": [
        "base_apps = load_apps()\n",
        "base_indices = load_indices()\n",
        "index = load_faiss_index(model_name)"
      ],
      "metadata": {
        "id": "hRKcRaMPdHpl"
      },
      "execution_count": null,
      "outputs": []
    },
    {
      "cell_type": "code",
      "source": [
        "from src.pipeline_utils import find_similar_app_ids\n",
        "\n",
        "app_id = 271590\n",
        "num_neighbors = 10\n",
        "\n",
        "similar_app_ids = find_similar_app_ids(app_id, preprocess, model, index, base_apps, base_indices, num_neighbors)\n",
        "\n",
        "print(similar_app_ids)"
      ],
      "metadata": {
        "id": "GRLw-roSZFne"
      },
      "execution_count": null,
      "outputs": []
    },
    {
      "cell_type": "markdown",
      "source": [
        "## Export Top 100 to Markdown"
      ],
      "metadata": {
        "id": "cAEDwjJceDsr"
      }
    },
    {
      "cell_type": "code",
      "source": [
        "import glob\n",
        "\n",
        "filenames = sorted(glob.glob('/content/images/*/*.jpg'))\n",
        "print(len(filenames))"
      ],
      "metadata": {
        "id": "yO5wdrCDZvIL"
      },
      "execution_count": null,
      "outputs": []
    },
    {
      "cell_type": "code",
      "source": [
        "filtered_app_ids = [base_apps[i] for i in base_indices]\n",
        "print(len(filtered_app_ids))"
      ],
      "metadata": {
        "id": "apvEAvOlaTZR"
      },
      "execution_count": null,
      "outputs": []
    },
    {
      "cell_type": "code",
      "source": [
        "precomputed_matches = load_precomputed_matches(model_name)"
      ],
      "metadata": {
        "id": "_wEVJwolUbyM"
      },
      "execution_count": null,
      "outputs": []
    },
    {
      "cell_type": "code",
      "source": [
        "from src.pipeline_utils import get_matches\n",
        "\n",
        "app_id = 271590\n",
        "num_neighbors = 10\n",
        "\n",
        "similar_app_ids = get_matches(app_id, precomputed_matches, filtered_app_ids, preprocess, model, index, base_apps, base_indices, num_neighbors, verbose=True)\n",
        "\n",
        "app_id = 2446820\n",
        "\n",
        "similar_app_ids = get_matches(app_id, precomputed_matches, filtered_app_ids, preprocess, model, index, base_apps, base_indices, num_neighbors, verbose=True)"
      ],
      "metadata": {
        "id": "ssq-e_shTxDI"
      },
      "execution_count": null,
      "outputs": []
    },
    {
      "cell_type": "code",
      "source": [
        "from src.steam_utils import get_top_100\n",
        "\n",
        "# TODO"
      ],
      "metadata": {
        "id": "OHi8-hF5QIN5"
      },
      "execution_count": null,
      "outputs": []
    }
  ]
}